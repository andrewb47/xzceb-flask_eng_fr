{
 "cells": [
  {
   "cell_type": "code",
   "execution_count": 2,
   "id": "be409f36",
   "metadata": {},
   "outputs": [],
   "source": [
    "from machinetranslation import translator"
   ]
  },
  {
   "cell_type": "code",
   "execution_count": 3,
   "id": "6a787c0b",
   "metadata": {},
   "outputs": [
    {
     "data": {
      "text/plain": [
       "'Pepitoooo'"
      ]
     },
     "execution_count": 3,
     "metadata": {},
     "output_type": "execute_result"
    }
   ],
   "source": [
    "translator.english_to_french(\"Hello\")"
   ]
  },
  {
   "cell_type": "code",
   "execution_count": 4,
   "id": "434758d7",
   "metadata": {},
   "outputs": [
    {
     "data": {
      "text/plain": [
       "'Hello'"
      ]
     },
     "execution_count": 4,
     "metadata": {},
     "output_type": "execute_result"
    }
   ],
   "source": [
    "translator.french_to_english(\"Bonjour\")"
   ]
  },
  {
   "cell_type": "code",
   "execution_count": null,
   "id": "510dd00f",
   "metadata": {},
   "outputs": [],
   "source": []
  }
 ],
 "metadata": {
  "kernelspec": {
   "display_name": "Python 3 (ipykernel)",
   "language": "python",
   "name": "python3"
  },
  "language_info": {
   "codemirror_mode": {
    "name": "ipython",
    "version": 3
   },
   "file_extension": ".py",
   "mimetype": "text/x-python",
   "name": "python",
   "nbconvert_exporter": "python",
   "pygments_lexer": "ipython3",
   "version": "3.9.16"
  }
 },
 "nbformat": 4,
 "nbformat_minor": 5
}
